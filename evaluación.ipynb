{
 "cells": [
  {
   "cell_type": "code",
   "execution_count": 36,
   "metadata": {},
   "outputs": [],
   "source": [
    "archivo_csv = \"listings_tokyo_original_ (1).csv\"\n",
    "df = cargar_archivo(archivo_csv)"
   ]
  },
  {
   "cell_type": "code",
   "execution_count": 44,
   "metadata": {},
   "outputs": [
    {
     "name": "stdout",
     "output_type": "stream",
     "text": [
      "Valores nulos por columna antes de limpiarlos:  id                                              0\n",
      "listing_url                                     0\n",
      "scrape_id                                       0\n",
      "last_scraped                                    0\n",
      "source                                          0\n",
      "                                               ..\n",
      "calculated_host_listings_count                  0\n",
      "calculated_host_listings_count_entire_homes     0\n",
      "calculated_host_listings_count_private_rooms    0\n",
      "calculated_host_listings_count_shared_rooms     0\n",
      "reviews_per_month                               0\n",
      "Length: 75, dtype: int64\n",
      "-----\n",
      "Total de valores nulos antes de limpiarlos:  0\n"
     ]
    }
   ],
   "source": [
    "#imprimo los valores nulos identificados \n",
    "nulos_por_columna, total_nulos = identificar_nulos(df)\n",
    "print(\"Valores nulos por columna antes de limpiarlos: \", \n",
    "      nulos_por_columna)\n",
    "\n",
    "print(\"-----\")\n",
    "\n",
    "print(\"Total de valores nulos antes de limpiarlos: \", total_nulos)"
   ]
  },
  {
   "cell_type": "code",
   "execution_count": 45,
   "metadata": {},
   "outputs": [],
   "source": [
    "# aqui sustituyo los valores nulos e identifico los valores atípicos \n",
    "df = sustituir_nulos(df)\n",
    "df = identificar_atipicos(df)"
   ]
  },
  {
   "cell_type": "code",
   "execution_count": 47,
   "metadata": {},
   "outputs": [
    {
     "name": "stdout",
     "output_type": "stream",
     "text": [
      "Valores nulos por columna después de limpiarlos: id                                              0\n",
      "listing_url                                     0\n",
      "scrape_id                                       0\n",
      "last_scraped                                    0\n",
      "source                                          0\n",
      "                                               ..\n",
      "calculated_host_listings_count                  0\n",
      "calculated_host_listings_count_entire_homes     0\n",
      "calculated_host_listings_count_private_rooms    0\n",
      "calculated_host_listings_count_shared_rooms     0\n",
      "reviews_per_month                               0\n",
      "Length: 75, dtype: int64\n",
      "-----\n",
      "Total de valores nulos después de limpiarlos:  0\n"
     ]
    }
   ],
   "source": [
    "#aquimis nulos se muestran después de la limpieza \n",
    "nulos_por_columna, total_nulos = identificar_nulos(df)\n",
    "print(\"Valores nulos por columna después de limpiarlos:\", \n",
    "      nulos_por_columna)\n",
    "\n",
    "\n",
    "print(\"-----\")\n",
    "\n",
    "print(\"Total de valores nulos después de limpiarlos: \", \n",
    "      total_nulos)"
   ]
  },
  {
   "cell_type": "code",
   "execution_count": 49,
   "metadata": {},
   "outputs": [
    {
     "name": "stdout",
     "output_type": "stream",
     "text": [
      "El archivo procesado ha sido guardado como 'listings_tokyo_final.csv'\n"
     ]
    }
   ],
   "source": [
    "#como ya no tengo nulos entonces guardio mi dataframe en csv. \n",
    "df.to_csv(\"listings_tokyo_final.csv\", index=False)\n",
    "print(\"El archivo procesado ha sido guardado como 'listings_tokyo_final.csv'\")"
   ]
  },
  {
   "cell_type": "code",
   "execution_count": null,
   "metadata": {},
   "outputs": [],
   "source": []
  },
  {
   "cell_type": "markdown",
   "metadata": {},
   "source": []
  }
 ],
 "metadata": {
  "kernelspec": {
   "display_name": "Python 3",
   "language": "python",
   "name": "python3"
  },
  "language_info": {
   "codemirror_mode": {
    "name": "ipython",
    "version": 3
   },
   "file_extension": ".py",
   "mimetype": "text/x-python",
   "name": "python",
   "nbconvert_exporter": "python",
   "pygments_lexer": "ipython3",
   "version": "3.13.2"
  }
 },
 "nbformat": 4,
 "nbformat_minor": 2
}
